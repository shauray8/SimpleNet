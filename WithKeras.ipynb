{
 "cells": [
  {
   "cell_type": "code",
   "execution_count": 1,
   "metadata": {},
   "outputs": [],
   "source": [
    "import tensorflow as tf\n",
    "import keras\n",
    "from keras.models import Sequential, load_model\n",
    "from keras.layers import Conv2D, MaxPooling2D\n",
    "from keras.layers import Dense, Activation, Flatten, Dropout, BatchNormalization\n",
    "import matplotlib.pyplot as plt\n",
    "import numpy as np\n",
    "from keras.preprocessing.image import ImageDataGenerator\n",
    "from keras.utils import np_utils"
   ]
  },
  {
   "cell_type": "code",
   "execution_count": 2,
   "metadata": {},
   "outputs": [],
   "source": [
    "(x_train,y_train),(x_test,y_test) = keras.datasets.cifar10.load_data()"
   ]
  },
  {
   "cell_type": "code",
   "execution_count": 3,
   "metadata": {},
   "outputs": [
    {
     "data": {
      "text/plain": [
       "(32, 32, 3)"
      ]
     },
     "execution_count": 3,
     "metadata": {},
     "output_type": "execute_result"
    }
   ],
   "source": [
    "x_train.shape[1:]"
   ]
  },
  {
   "cell_type": "code",
   "execution_count": 4,
   "metadata": {},
   "outputs": [
    {
     "data": {
      "text/plain": [
       "<matplotlib.image.AxesImage at 0x1caaa562910>"
      ]
     },
     "execution_count": 4,
     "metadata": {},
     "output_type": "execute_result"
    },
    {
     "data": {
      "image/png": "[encoded data removed]",
      "text/plain": [
       "<Figure size 432x288 with 1 Axes>"
      ]
     },
     "metadata": {
      "needs_background": "light"
     },
     "output_type": "display_data"
    }
   ],
   "source": [
    "plt.imshow(x_train[111])"
   ]
  },
  {
   "cell_type": "code",
   "execution_count": 5,
   "metadata": {},
   "outputs": [],
   "source": [
    "x_train = x_train.astype('float32')\n",
    "x_test = x_test.astype('float32')\n",
    "\n",
    "# mean = np.mean(x_train,axis=(0,1,2,3))\n",
    "# std = np.std(x_train,axis=(0,1,2,3))\n",
    "# x_train = (x_train-mean)/(std+1e-7)\n",
    "# x_test = (x_test-mean)/(std+1e-7)"
   ]
  },
  {
   "cell_type": "code",
   "execution_count": 6,
   "metadata": {},
   "outputs": [],
   "source": [
    "datagen = ImageDataGenerator(\n",
    "    rotation_range=15,\n",
    "    width_shift_range=0.1,\n",
    "    height_shift_range=0.1,\n",
    "    horizontal_flip=True\n",
    "    )\n",
    "datagen.fit(x_train)\n",
    "\n",
    "num_classes = 10\n",
    "y_train = np_utils.to_categorical(y_train,num_classes)\n",
    "y_test = np_utils.to_categorical(y_test,num_classes)"
   ]
  },
  {
   "cell_type": "code",
   "execution_count": null,
   "metadata": {},
   "outputs": [],
   "source": []
  },
  {
   "cell_type": "code",
   "execution_count": 7,
   "metadata": {},
   "outputs": [],
   "source": [
    "def cifar10():\n",
    "    model = Sequential()\n",
    "    \n",
    "    #1st layer\n",
    "    model.add(Conv2D(64, (3,3), padding='same', input_shape = x_train.shape[1:]))\n",
    "    model.add(BatchNormalization())\n",
    "    model.add(Activation('relu'))\n",
    "    model.add(Dropout(0.2))\n",
    "    \n",
    "    #2nd layer\n",
    "    model.add(Conv2D(128, (3,3), padding='same', input_shape = x_train.shape[1:]))\n",
    "    model.add(BatchNormalization())\n",
    "    model.add(Activation('relu'))\n",
    "    model.add(Dropout(0.2))\n",
    "    \n",
    "    #3rd layer\n",
    "    model.add(Conv2D(128, (3,3), padding='same', input_shape = x_train.shape[1:]))\n",
    "    model.add(BatchNormalization())\n",
    "    model.add(Activation('relu'))\n",
    "    model.add(Dropout(0.2))\n",
    "    \n",
    "    #4th layer\n",
    "    model.add(Conv2D(128, (3,3), padding='same', input_shape = x_train.shape[1:]))\n",
    "    model.add(BatchNormalization())\n",
    "    model.add(Activation('relu'))\n",
    "    model.add(MaxPooling2D(pool_size=(2,2)))\n",
    "    model.add(Dropout(0.2))\n",
    "    \n",
    "    #5th layer\n",
    "    model.add(Conv2D(128, (3,3), padding='same', input_shape = x_train.shape[1:]))\n",
    "    model.add(BatchNormalization())\n",
    "    model.add(Activation('relu'))\n",
    "    model.add(Dropout(0.2))\n",
    "    \n",
    "    #6th layer\n",
    "    model.add(Conv2D(128, (3,3), padding='same', input_shape = x_train.shape[1:]))\n",
    "    model.add(BatchNormalization())\n",
    "    model.add(Activation('relu'))\n",
    "    model.add(Dropout(0.2))\n",
    "    \n",
    "    #7th layer\n",
    "    model.add(Conv2D(128, (3,3), padding='same', input_shape = x_train.shape[1:]))\n",
    "    model.add(BatchNormalization())\n",
    "    model.add(Activation('relu'))\n",
    "    model.add(MaxPooling2D(pool_size=(2,2)))\n",
    "    model.add(Dropout(0.2))\n",
    "    \n",
    "    #8th layer\n",
    "    model.add(Conv2D(128, (3,3), padding='same', input_shape = x_train.shape[1:]))\n",
    "    model.add(BatchNormalization())\n",
    "    model.add(Activation('relu'))\n",
    "    model.add(Dropout(0.2))\n",
    "    \n",
    "    #9th layer\n",
    "    model.add(Conv2D(128, (3,3), padding='same', input_shape = x_train.shape[1:]))\n",
    "    model.add(BatchNormalization())\n",
    "    model.add(Activation('relu'))\n",
    "    model.add(MaxPooling2D(pool_size=(2,2)))\n",
    "    model.add(Dropout(0.2))\n",
    "    \n",
    "    #10th layer\n",
    "    model.add(Conv2D(128, (3,3), padding='same', input_shape = x_train.shape[1:]))\n",
    "    model.add(BatchNormalization())\n",
    "    model.add(Activation('relu'))\n",
    "    model.add(Dropout(0.2))\n",
    "    \n",
    "    #11 lthayer\n",
    "    model.add(Conv2D(128, (1,1), padding='same', input_shape = x_train.shape[1:]))\n",
    "    model.add(BatchNormalization())\n",
    "    model.add(Activation('relu'))\n",
    "    model.add(Dropout(0.2))\n",
    "\n",
    "    #12th layer\n",
    "    model.add(Conv2D(128, (1,1), padding='same', input_shape = x_train.shape[1:]))\n",
    "    model.add(BatchNormalization())\n",
    "    model.add(Activation('relu'))\n",
    "    model.add(MaxPooling2D(pool_size=(2,2)))\n",
    "    model.add(Dropout(0.2))\n",
    "    \n",
    "    #13th layer\n",
    "    model.add(Conv2D(128, (3,3), padding='same', input_shape = x_train.shape[1:]))\n",
    "    model.add(BatchNormalization())\n",
    "    model.add(Activation('relu'))\n",
    "    model.add(MaxPooling2D(pool_size=(2,2)))\n",
    "    model.add(Dropout(0.2))\n",
    "    \n",
    "    #last layer\n",
    "    model.add(Flatten())\n",
    "    model.add(Dense(10, activation='softmax'))\n",
    "    \n",
    "    return model"
   ]
  },
  {
   "cell_type": "code",
   "execution_count": 8,
   "metadata": {},
   "outputs": [
    {
     "name": "stdout",
     "output_type": "stream",
     "text": [
      "Model: \"sequential\"\n",
      "_________________________________________________________________\n",
      "Layer (type)                 Output Shape              Param #   \n",
      "=================================================================\n",
      "conv2d (Conv2D)              (None, 32, 32, 64)        1792      \n",
      "_________________________________________________________________\n",
      "batch_normalization (BatchNo (None, 32, 32, 64)        256       \n",
      "_________________________________________________________________\n",
      "activation (Activation)      (None, 32, 32, 64)        0         \n",
      "_________________________________________________________________\n",
      "dropout (Dropout)            (None, 32, 32, 64)        0         \n",
      "_________________________________________________________________\n",
      "conv2d_1 (Conv2D)            (None, 32, 32, 128)       73856     \n",
      "_________________________________________________________________\n",
      "batch_normalization_1 (Batch (None, 32, 32, 128)       512       \n",
      "_________________________________________________________________\n",
      "activation_1 (Activation)    (None, 32, 32, 128)       0         \n",
      "_________________________________________________________________\n",
      "dropout_1 (Dropout)          (None, 32, 32, 128)       0         \n",
      "_________________________________________________________________\n",
      "conv2d_2 (Conv2D)            (None, 32, 32, 128)       147584    \n",
      "_________________________________________________________________\n",
      "batch_normalization_2 (Batch (None, 32, 32, 128)       512       \n",
      "_________________________________________________________________\n",
      "activation_2 (Activation)    (None, 32, 32, 128)       0         \n",
      "_________________________________________________________________\n",
      "dropout_2 (Dropout)          (None, 32, 32, 128)       0         \n",
      "_________________________________________________________________\n",
      "conv2d_3 (Conv2D)            (None, 32, 32, 128)       147584    \n",
      "_________________________________________________________________\n",
      "batch_normalization_3 (Batch (None, 32, 32, 128)       512       \n",
      "_________________________________________________________________\n",
      "activation_3 (Activation)    (None, 32, 32, 128)       0         \n",
      "_________________________________________________________________\n",
      "max_pooling2d (MaxPooling2D) (None, 16, 16, 128)       0         \n",
      "_________________________________________________________________\n",
      "dropout_3 (Dropout)          (None, 16, 16, 128)       0         \n",
      "_________________________________________________________________\n",
      "conv2d_4 (Conv2D)            (None, 16, 16, 128)       147584    \n",
      "_________________________________________________________________\n",
      "batch_normalization_4 (Batch (None, 16, 16, 128)       512       \n",
      "_________________________________________________________________\n",
      "activation_4 (Activation)    (None, 16, 16, 128)       0         \n",
      "_________________________________________________________________\n",
      "dropout_4 (Dropout)          (None, 16, 16, 128)       0         \n",
      "_________________________________________________________________\n",
      "conv2d_5 (Conv2D)            (None, 16, 16, 128)       147584    \n",
      "_________________________________________________________________\n",
      "batch_normalization_5 (Batch (None, 16, 16, 128)       512       \n",
      "_________________________________________________________________\n",
      "activation_5 (Activation)    (None, 16, 16, 128)       0         \n",
      "_________________________________________________________________\n",
      "dropout_5 (Dropout)          (None, 16, 16, 128)       0         \n",
      "_________________________________________________________________\n",
      "conv2d_6 (Conv2D)            (None, 16, 16, 128)       147584    \n",
      "_________________________________________________________________\n",
      "batch_normalization_6 (Batch (None, 16, 16, 128)       512       \n",
      "_________________________________________________________________\n",
      "activation_6 (Activation)    (None, 16, 16, 128)       0         \n",
      "_________________________________________________________________\n",
      "max_pooling2d_1 (MaxPooling2 (None, 8, 8, 128)         0         \n",
      "_________________________________________________________________\n",
      "dropout_6 (Dropout)          (None, 8, 8, 128)         0         \n",
      "_________________________________________________________________\n",
      "conv2d_7 (Conv2D)            (None, 8, 8, 128)         147584    \n",
      "_________________________________________________________________\n",
      "batch_normalization_7 (Batch (None, 8, 8, 128)         512       \n",
      "_________________________________________________________________\n",
      "activation_7 (Activation)    (None, 8, 8, 128)         0         \n",
      "_________________________________________________________________\n",
      "dropout_7 (Dropout)          (None, 8, 8, 128)         0         \n",
      "_________________________________________________________________\n",
      "conv2d_8 (Conv2D)            (None, 8, 8, 128)         147584    \n",
      "_________________________________________________________________\n",
      "batch_normalization_8 (Batch (None, 8, 8, 128)         512       \n",
      "_________________________________________________________________\n",
      "activation_8 (Activation)    (None, 8, 8, 128)         0         \n",
      "_________________________________________________________________\n",
      "max_pooling2d_2 (MaxPooling2 (None, 4, 4, 128)         0         \n",
      "_________________________________________________________________\n",
      "dropout_8 (Dropout)          (None, 4, 4, 128)         0         \n",
      "_________________________________________________________________\n",
      "conv2d_9 (Conv2D)            (None, 4, 4, 128)         147584    \n",
      "_________________________________________________________________\n",
      "batch_normalization_9 (Batch (None, 4, 4, 128)         512       \n",
      "_________________________________________________________________\n",
      "activation_9 (Activation)    (None, 4, 4, 128)         0         \n",
      "_________________________________________________________________\n",
      "dropout_9 (Dropout)          (None, 4, 4, 128)         0         \n",
      "_________________________________________________________________\n",
      "conv2d_10 (Conv2D)           (None, 4, 4, 128)         16512     \n",
      "_________________________________________________________________\n",
      "batch_normalization_10 (Batc (None, 4, 4, 128)         512       \n",
      "_________________________________________________________________\n",
      "activation_10 (Activation)   (None, 4, 4, 128)         0         \n",
      "_________________________________________________________________\n",
      "dropout_10 (Dropout)         (None, 4, 4, 128)         0         \n",
      "_________________________________________________________________\n",
      "conv2d_11 (Conv2D)           (None, 4, 4, 128)         16512     \n",
      "_________________________________________________________________\n",
      "batch_normalization_11 (Batc (None, 4, 4, 128)         512       \n",
      "_________________________________________________________________\n",
      "activation_11 (Activation)   (None, 4, 4, 128)         0         \n",
      "_________________________________________________________________\n",
      "max_pooling2d_3 (MaxPooling2 (None, 2, 2, 128)         0         \n",
      "_________________________________________________________________\n",
      "dropout_11 (Dropout)         (None, 2, 2, 128)         0         \n",
      "_________________________________________________________________\n",
      "conv2d_12 (Conv2D)           (None, 2, 2, 128)         147584    \n",
      "_________________________________________________________________\n",
      "batch_normalization_12 (Batc (None, 2, 2, 128)         512       \n",
      "_________________________________________________________________\n",
      "activation_12 (Activation)   (None, 2, 2, 128)         0         \n",
      "_________________________________________________________________\n",
      "max_pooling2d_4 (MaxPooling2 (None, 1, 1, 128)         0         \n",
      "_________________________________________________________________\n",
      "dropout_12 (Dropout)         (None, 1, 1, 128)         0         \n",
      "_________________________________________________________________\n",
      "flatten (Flatten)            (None, 128)               0         \n",
      "_________________________________________________________________\n",
      "dense (Dense)                (None, 10)                1290      \n",
      "=================================================================\n",
      "Total params: 1,444,618\n",
      "Trainable params: 1,441,418\n",
      "Non-trainable params: 3,200\n",
      "_________________________________________________________________\n"
     ]
    }
   ],
   "source": [
    "model = cifar10()\n",
    "model.summary()"
   ]
  },
  {
   "cell_type": "code",
   "execution_count": 9,
   "metadata": {},
   "outputs": [
    {
     "data": {
      "text/plain": [
       "(50000, 32, 32, 3)"
      ]
     },
     "execution_count": 9,
     "metadata": {},
     "output_type": "execute_result"
    }
   ],
   "source": [
    "x_train.shape"
   ]
  },
  {
   "cell_type": "code",
   "execution_count": 10,
   "metadata": {},
   "outputs": [
    {
     "name": "stdout",
     "output_type": "stream",
     "text": [
      "Epoch 1/10\n",
      "500/500 [==============================] - 180s 359ms/step - loss: 1.8079 - accuracy: 0.3336 - val_loss: 2.0015 - val_accuracy: 0.3395\n",
      "Epoch 2/10\n",
      "500/500 [==============================] - 179s 357ms/step - loss: 1.2781 - accuracy: 0.5383 - val_loss: 1.5992 - val_accuracy: 0.4980\n",
      "Epoch 3/10\n",
      "500/500 [==============================] - 179s 358ms/step - loss: 1.0289 - accuracy: 0.6357 - val_loss: 1.1325 - val_accuracy: 0.6116\n",
      "Epoch 4/10\n",
      "500/500 [==============================] - 179s 359ms/step - loss: 0.9018 - accuracy: 0.6848 - val_loss: 1.0962 - val_accuracy: 0.6528\n",
      "Epoch 5/10\n",
      "500/500 [==============================] - 179s 358ms/step - loss: 0.8006 - accuracy: 0.7231 - val_loss: 1.1399 - val_accuracy: 0.6379\n",
      "Epoch 6/10\n",
      "500/500 [==============================] - 180s 359ms/step - loss: 0.7418 - accuracy: 0.7469 - val_loss: 0.9523 - val_accuracy: 0.6842\n",
      "Epoch 7/10\n",
      "500/500 [==============================] - 179s 358ms/step - loss: 0.6912 - accuracy: 0.7640 - val_loss: 0.9663 - val_accuracy: 0.6756\n",
      "Epoch 8/10\n",
      "500/500 [==============================] - 179s 358ms/step - loss: 0.6558 - accuracy: 0.7757 - val_loss: 0.8476 - val_accuracy: 0.7261\n",
      "Epoch 9/10\n",
      "500/500 [==============================] - 180s 360ms/step - loss: 0.6216 - accuracy: 0.7885 - val_loss: 0.7332 - val_accuracy: 0.7555\n",
      "Epoch 10/10\n",
      "500/500 [==============================] - 180s 361ms/step - loss: 0.5866 - accuracy: 0.7996 - val_loss: 0.6489 - val_accuracy: 0.7795\n",
      "{'loss': [1.8078840970993042, 1.2780935764312744, 1.028903603553772, 0.9017699956893921, 0.8006328344345093, 0.7417972087860107, 0.691210925579071, 0.6557640433311462, 0.6216086149215698, 0.5865828990936279], 'accuracy': [0.33357998728752136, 0.5383399724960327, 0.6356800198554993, 0.6848000288009644, 0.7230799794197083, 0.7468799948692322, 0.7639600038528442, 0.7756999731063843, 0.7885400056838989, 0.7996399998664856], 'val_loss': [2.001544952392578, 1.599210262298584, 1.1325232982635498, 1.0961993932724, 1.139892578125, 0.9522855281829834, 0.9662900567054749, 0.8475754857063293, 0.7332212924957275, 0.6489351391792297], 'val_accuracy': [0.3395000100135803, 0.49799999594688416, 0.6115999817848206, 0.6528000235557556, 0.6378999948501587, 0.6841999888420105, 0.675599992275238, 0.7261000275611877, 0.7555000185966492, 0.7795000076293945]}\n"
     ]
    }
   ],
   "source": [
    "BS = 100\n",
    "epochs = 10\n",
    "train = {}\n",
    "\n",
    "optim = keras.optimizers.Adam()\n",
    "model.compile(loss='categorical_crossentropy',\n",
    "             optimizer = optim,\n",
    "             metrics = ['accuracy'])\n",
    "\n",
    "train[\"part_1\"] = model.fit(datagen.flow(x_train, y_train, batch_size=BS),\n",
    "                            epochs = epochs,verbose=1,\n",
    "                            validation_data=(x_test,y_test))\n",
    "\n",
    "model.save(\"SimpleNet_trained_model.h5\")\n",
    "print(train[\"part_1\"].history)"
   ]
  },
  {
   "cell_type": "code",
   "execution_count": 37,
   "metadata": {},
   "outputs": [
    {
     "data": {
      "text/plain": [
       "<matplotlib.legend.Legend at 0x1cb7c913c40>"
      ]
     },
     "execution_count": 37,
     "metadata": {},
     "output_type": "execute_result"
    },
    {
     "data": {
      "image/png": "[encoded data removed]",
      "text/plain": [
       "<Figure size 432x288 with 1 Axes>"
      ]
     },
     "metadata": {
      "needs_background": "light"
     },
     "output_type": "display_data"
    }
   ],
   "source": [
    "plt.plot(train[\"part_1\"].history['loss'])\n",
    "plt.plot(train[\"part_1\"].history['accuracy'])\n",
    "# plt.plot(train[\"part_1\"].history['val_loss'])\n",
    "# plt.plot(train[\"part_1\"].history['val_accuracy'])\n",
    "plt.legend(['loss','accuracy'])"
   ]
  },
  {
   "cell_type": "code",
   "execution_count": 38,
   "metadata": {},
   "outputs": [
    {
     "name": "stdout",
     "output_type": "stream",
     "text": [
      "Epoch 1/10\n",
      "500/500 [==============================] - 179s 359ms/step - loss: 0.5716 - accuracy: 0.8068 - val_loss: 0.6358 - val_accuracy: 0.7857\n",
      "Epoch 2/10\n",
      "500/500 [==============================] - 204s 409ms/step - loss: 0.5428 - accuracy: 0.8150 - val_loss: 0.4928 - val_accuracy: 0.8304\n",
      "Epoch 3/10\n",
      "500/500 [==============================] - 210s 419ms/step - loss: 0.5231 - accuracy: 0.8227 - val_loss: 0.4712 - val_accuracy: 0.8382\n",
      "Epoch 4/10\n",
      "500/500 [==============================] - 210s 420ms/step - loss: 0.4983 - accuracy: 0.8309 - val_loss: 0.5646 - val_accuracy: 0.8100\n",
      "Epoch 5/10\n",
      "500/500 [==============================] - 210s 419ms/step - loss: 0.4725 - accuracy: 0.8405 - val_loss: 0.4910 - val_accuracy: 0.8367\n",
      "Epoch 6/10\n",
      "500/500 [==============================] - 210s 419ms/step - loss: 0.4655 - accuracy: 0.8433 - val_loss: 0.4992 - val_accuracy: 0.8324\n",
      "Epoch 7/10\n",
      "500/500 [==============================] - 209s 419ms/step - loss: 0.4462 - accuracy: 0.8492 - val_loss: 0.4982 - val_accuracy: 0.8363\n",
      "Epoch 8/10\n",
      "500/500 [==============================] - 209s 419ms/step - loss: 0.4382 - accuracy: 0.8526 - val_loss: 0.5458 - val_accuracy: 0.8177\n",
      "Epoch 9/10\n",
      "500/500 [==============================] - 209s 419ms/step - loss: 0.4202 - accuracy: 0.8576 - val_loss: 0.5771 - val_accuracy: 0.8103\n",
      "Epoch 10/10\n",
      "500/500 [==============================] - 209s 419ms/step - loss: 0.4134 - accuracy: 0.8608 - val_loss: 0.4947 - val_accuracy: 0.8349\n",
      "{'loss': [0.57159423828125, 0.5427804589271545, 0.5230764746665955, 0.49834755063056946, 0.47245803475379944, 0.4655310809612274, 0.44624829292297363, 0.4382311701774597, 0.4202091097831726, 0.41339001059532166], 'accuracy': [0.8068000078201294, 0.8150200247764587, 0.822700023651123, 0.8309199810028076, 0.8405399918556213, 0.8433200120925903, 0.8492400050163269, 0.8525999784469604, 0.8576200008392334, 0.8608400225639343], 'val_loss': [0.6357551217079163, 0.49283111095428467, 0.4711858928203583, 0.5646215081214905, 0.4909657835960388, 0.49924418330192566, 0.49816420674324036, 0.5458250045776367, 0.5771294832229614, 0.49465835094451904], 'val_accuracy': [0.7857000231742859, 0.8303999900817871, 0.8381999731063843, 0.8100000023841858, 0.8367000222206116, 0.8324000239372253, 0.8363000154495239, 0.8177000284194946, 0.8102999925613403, 0.8349000215530396]}\n"
     ]
    }
   ],
   "source": [
    "optim = keras.optimizers.Adam()\n",
    "model.compile(loss='categorical_crossentropy',\n",
    "             optimizer = optim,\n",
    "             metrics = ['accuracy'])\n",
    "\n",
    "train[\"part_2\"] = model.fit(datagen.flow(x_train, y_train, batch_size=BS),\n",
    "                            epochs = epochs,verbose=1,\n",
    "                            validation_data=(x_test,y_test))\n",
    "\n",
    "model.save(\"SimpleNet_trained_model.h5\")\n",
    "print(train[\"part_2\"].history)"
   ]
  },
  {
   "cell_type": "code",
   "execution_count": 43,
   "metadata": {},
   "outputs": [
    {
     "data": {
      "text/plain": [
       "<matplotlib.legend.Legend at 0x1cb8513a1c0>"
      ]
     },
     "execution_count": 43,
     "metadata": {},
     "output_type": "execute_result"
    },
    {
     "data": {
      "image/png": "[encoded data removed]",
      "text/plain": [
       "<Figure size 432x288 with 1 Axes>"
      ]
     },
     "metadata": {
      "needs_background": "light"
     },
     "output_type": "display_data"
    }
   ],
   "source": [
    "plt.plot(train[\"part_2\"].history['loss'])\n",
    "plt.plot(train[\"part_2\"].history['accuracy'])\n",
    "# plt.plot(train[\"part_1\"].history['val_loss'])\n",
    "# plt.plot(train[\"part_1\"].history['val_accuracy'])\n",
    "plt.legend(['loss','accuracy'])"
   ]
  },
  {
   "cell_type": "code",
   "execution_count": 44,
   "metadata": {},
   "outputs": [
    {
     "name": "stdout",
     "output_type": "stream",
     "text": [
      "Epoch 1/10\n",
      "500/500 [==============================] - 159s 319ms/step - loss: 0.4012 - accuracy: 0.8633 - val_loss: 0.4567 - val_accuracy: 0.8480\n",
      "Epoch 2/10\n",
      "500/500 [==============================] - 167s 334ms/step - loss: 0.3914 - accuracy: 0.8675 - val_loss: 0.6340 - val_accuracy: 0.7891\n",
      "Epoch 3/10\n",
      "500/500 [==============================] - 178s 356ms/step - loss: 0.3806 - accuracy: 0.8710 - val_loss: 0.4399 - val_accuracy: 0.8554\n",
      "Epoch 4/10\n",
      "500/500 [==============================] - 175s 350ms/step - loss: 0.3701 - accuracy: 0.8753 - val_loss: 0.4550 - val_accuracy: 0.8550\n",
      "Epoch 5/10\n",
      "500/500 [==============================] - 170s 340ms/step - loss: 0.3633 - accuracy: 0.8767 - val_loss: 0.4159 - val_accuracy: 0.8625\n",
      "Epoch 6/10\n",
      "500/500 [==============================] - 159s 319ms/step - loss: 0.3577 - accuracy: 0.8796 - val_loss: 0.4460 - val_accuracy: 0.8516\n",
      "Epoch 7/10\n",
      "500/500 [==============================] - 167s 335ms/step - loss: 0.3475 - accuracy: 0.8811 - val_loss: 0.4993 - val_accuracy: 0.8420\n",
      "Epoch 8/10\n",
      "500/500 [==============================] - 159s 319ms/step - loss: 0.3438 - accuracy: 0.8822 - val_loss: 0.4450 - val_accuracy: 0.8526\n",
      "Epoch 9/10\n",
      "500/500 [==============================] - 159s 319ms/step - loss: 0.3344 - accuracy: 0.8850 - val_loss: 0.4359 - val_accuracy: 0.8560\n",
      "Epoch 10/10\n",
      "500/500 [==============================] - 172s 345ms/step - loss: 0.3275 - accuracy: 0.8874 - val_loss: 0.3183 - val_accuracy: 0.8949\n",
      "{'loss': [0.4012196958065033, 0.3914114534854889, 0.38059860467910767, 0.37009963393211365, 0.3632609248161316, 0.3577045798301697, 0.3474632501602173, 0.34379667043685913, 0.3344440162181854, 0.32750174403190613], 'accuracy': [0.8632599711418152, 0.8674600124359131, 0.870959997177124, 0.8752999901771545, 0.8766599893569946, 0.8796200156211853, 0.8810799717903137, 0.8822199702262878, 0.8849599957466125, 0.8873999714851379], 'val_loss': [0.45667240023612976, 0.6339812278747559, 0.4399084448814392, 0.45496246218681335, 0.4158540964126587, 0.4460379481315613, 0.499297559261322, 0.4450070858001709, 0.4358680546283722, 0.3183170258998871], 'val_accuracy': [0.8479999899864197, 0.7890999913215637, 0.855400025844574, 0.8550000190734863, 0.862500011920929, 0.8515999913215637, 0.8420000076293945, 0.8525999784469604, 0.8560000061988831, 0.8949000239372253]}\n"
     ]
    }
   ],
   "source": [
    "optim = keras.optimizers.Adam()\n",
    "model.compile(loss='categorical_crossentropy',\n",
    "             optimizer = optim,\n",
    "             metrics = ['accuracy'])\n",
    "\n",
    "train[\"part_3\"] = model.fit(datagen.flow(x_train, y_train, batch_size=BS),\n",
    "                            epochs = epochs,verbose=1,\n",
    "                            validation_data=(x_test,y_test))\n",
    "\n",
    "model.save(\"SimpleNet_trained_model.h5\")\n",
    "print(train[\"part_3\"].history)"
   ]
  },
  {
   "cell_type": "code",
   "execution_count": 45,
   "metadata": {},
   "outputs": [
    {
     "data": {
      "text/plain": [
       "<matplotlib.legend.Legend at 0x1cb8b879f70>"
      ]
     },
     "execution_count": 45,
     "metadata": {},
     "output_type": "execute_result"
    },
    {
     "data": {
      "image/png": "[encoded data removed]",
      "text/plain": [
       "<Figure size 432x288 with 1 Axes>"
      ]
     },
     "metadata": {
      "needs_background": "light"
     },
     "output_type": "display_data"
    }
   ],
   "source": [
    "plt.plot(train[\"part_3\"].history['loss'])\n",
    "plt.plot(train[\"part_3\"].history['accuracy'])\n",
    "# plt.plot(train[\"part_1\"].history['val_loss'])\n",
    "# plt.plot(train[\"part_1\"].history['val_accuracy'])\n",
    "plt.legend(['loss','accuracy'])"
   ]
  },
  {
   "cell_type": "code",
   "execution_count": 57,
   "metadata": {},
   "outputs": [
    {
     "name": "stdout",
     "output_type": "stream",
     "text": [
      "Epoch 1/10\n",
      "500/500 [==============================] - 213s 425ms/step - loss: 0.3269 - accuracy: 0.8904 - val_loss: 0.4299 - val_accuracy: 0.8559\n",
      "Epoch 2/10\n",
      "500/500 [==============================] - 209s 419ms/step - loss: 0.3178 - accuracy: 0.8905 - val_loss: 0.3545 - val_accuracy: 0.8824\n",
      "Epoch 3/10\n",
      "500/500 [==============================] - 210s 419ms/step - loss: 0.3168 - accuracy: 0.8931 - val_loss: 0.3317 - val_accuracy: 0.8887\n",
      "Epoch 4/10\n",
      "500/500 [==============================] - 210s 419ms/step - loss: 0.3087 - accuracy: 0.8959 - val_loss: 0.3496 - val_accuracy: 0.8832\n",
      "Epoch 5/10\n",
      "500/500 [==============================] - 210s 419ms/step - loss: 0.3004 - accuracy: 0.8979 - val_loss: 0.3507 - val_accuracy: 0.8809\n",
      "Epoch 6/10\n",
      "500/500 [==============================] - 210s 419ms/step - loss: 0.2977 - accuracy: 0.8985 - val_loss: 0.3520 - val_accuracy: 0.8836\n",
      "Epoch 7/10\n",
      "500/500 [==============================] - 210s 419ms/step - loss: 0.2913 - accuracy: 0.9010 - val_loss: 0.3098 - val_accuracy: 0.8960\n",
      "Epoch 8/10\n",
      "500/500 [==============================] - 210s 419ms/step - loss: 0.2934 - accuracy: 0.9002 - val_loss: 0.3335 - val_accuracy: 0.8886\n",
      "Epoch 9/10\n",
      "500/500 [==============================] - 210s 419ms/step - loss: 0.2867 - accuracy: 0.9025 - val_loss: 0.3812 - val_accuracy: 0.8747\n",
      "Epoch 10/10\n",
      "500/500 [==============================] - 227s 454ms/step - loss: 0.2782 - accuracy: 0.9045 - val_loss: 0.3605 - val_accuracy: 0.8766\n",
      "{'loss': [0.3268621265888214, 0.31783631443977356, 0.3167741298675537, 0.30865344405174255, 0.30037349462509155, 0.29768580198287964, 0.2913306951522827, 0.2933777868747711, 0.286719411611557, 0.2782093286514282], 'accuracy': [0.8904200196266174, 0.8905199766159058, 0.8930799961090088, 0.8959199786186218, 0.8978599905967712, 0.8985400199890137, 0.9009799957275391, 0.9002400040626526, 0.902459979057312, 0.90447998046875], 'val_loss': [0.429931640625, 0.35451439023017883, 0.3317076861858368, 0.3496338725090027, 0.3507247269153595, 0.3520315885543823, 0.30981555581092834, 0.33347538113594055, 0.3811921179294586, 0.36053240299224854], 'val_accuracy': [0.85589998960495, 0.8823999762535095, 0.888700008392334, 0.8831999897956848, 0.8809000253677368, 0.8835999965667725, 0.8960000276565552, 0.8885999917984009, 0.8747000098228455, 0.8766000270843506]}\n"
     ]
    }
   ],
   "source": [
    "optim = keras.optimizers.Adam()\n",
    "model.compile(loss='categorical_crossentropy',\n",
    "             optimizer = optim,\n",
    "             metrics = ['accuracy'])\n",
    "\n",
    "train[\"part_4\"] = model.fit(datagen.flow(x_train, y_train, batch_size=BS),\n",
    "                            epochs = epochs,verbose=1,\n",
    "                            validation_data=(x_test,y_test))\n",
    "\n",
    "model.save(\"SimpleNet_trained_model.h5\")\n",
    "print(train[\"part_4\"].history)"
   ]
  },
  {
   "cell_type": "code",
   "execution_count": 58,
   "metadata": {},
   "outputs": [
    {
     "data": {
      "text/plain": [
       "<matplotlib.legend.Legend at 0x1cb8b9618e0>"
      ]
     },
     "execution_count": 58,
     "metadata": {},
     "output_type": "execute_result"
    },
    {
     "data": {
      "image/png": "[encoded data removed]",
      "text/plain": [
       "<Figure size 432x288 with 1 Axes>"
      ]
     },
     "metadata": {
      "needs_background": "light"
     },
     "output_type": "display_data"
    }
   ],
   "source": [
    "plt.plot(train[\"part_4\"].history['loss'])\n",
    "plt.plot(train[\"part_4\"].history['accuracy'])\n",
    "# plt.plot(train[\"part_1\"].history['val_loss'])\n",
    "# plt.plot(train[\"part_1\"].history['val_accuracy'])\n",
    "plt.legend(['loss','accuracy'])"
   ]
  },
  {
   "cell_type": "code",
   "execution_count": 59,
   "metadata": {},
   "outputs": [
    {
     "name": "stdout",
     "output_type": "stream",
     "text": [
      "Epoch 1/10\n",
      "500/500 [==============================] - 211s 422ms/step - loss: 0.2778 - accuracy: 0.9051 - val_loss: 0.3553 - val_accuracy: 0.8797\n",
      "Epoch 2/10\n",
      "500/500 [==============================] - 210s 420ms/step - loss: 0.2720 - accuracy: 0.9064 - val_loss: 0.3469 - val_accuracy: 0.8840\n",
      "Epoch 3/10\n",
      "500/500 [==============================] - 210s 420ms/step - loss: 0.2715 - accuracy: 0.9077 - val_loss: 0.3520 - val_accuracy: 0.8826\n",
      "Epoch 4/10\n",
      "500/500 [==============================] - 210s 419ms/step - loss: 0.2669 - accuracy: 0.9091 - val_loss: 0.3016 - val_accuracy: 0.9036\n",
      "Epoch 5/10\n",
      "500/500 [==============================] - 210s 421ms/step - loss: 0.2633 - accuracy: 0.9091 - val_loss: 0.3026 - val_accuracy: 0.9015\n",
      "Epoch 6/10\n",
      "500/500 [==============================] - 210s 419ms/step - loss: 0.2627 - accuracy: 0.9107 - val_loss: 0.3004 - val_accuracy: 0.9005\n",
      "Epoch 7/10\n",
      "500/500 [==============================] - 210s 420ms/step - loss: 0.2563 - accuracy: 0.9115 - val_loss: 0.2832 - val_accuracy: 0.9039\n",
      "Epoch 8/10\n",
      "500/500 [==============================] - 210s 419ms/step - loss: 0.2519 - accuracy: 0.9132 - val_loss: 0.3315 - val_accuracy: 0.8894\n",
      "Epoch 9/10\n",
      "500/500 [==============================] - 210s 419ms/step - loss: 0.2517 - accuracy: 0.9150 - val_loss: 0.3689 - val_accuracy: 0.8814\n",
      "Epoch 10/10\n",
      "500/500 [==============================] - 210s 419ms/step - loss: 0.2494 - accuracy: 0.9164 - val_loss: 0.4161 - val_accuracy: 0.8650\n",
      "{'loss': [0.2777993679046631, 0.27202075719833374, 0.2715425491333008, 0.2668900489807129, 0.26333901286125183, 0.2626666724681854, 0.2562754452228546, 0.2519263029098511, 0.25172194838523865, 0.24935920536518097], 'accuracy': [0.9051399827003479, 0.9063799977302551, 0.9077000021934509, 0.9090999960899353, 0.9091399908065796, 0.9106799960136414, 0.9115200042724609, 0.9131799936294556, 0.9150400161743164, 0.9164400100708008], 'val_loss': [0.3553057014942169, 0.3469327986240387, 0.3519805371761322, 0.30156219005584717, 0.3025721311569214, 0.3004453182220459, 0.2831641435623169, 0.33154305815696716, 0.3689187169075012, 0.4161468744277954], 'val_accuracy': [0.8797000050544739, 0.8840000033378601, 0.8826000094413757, 0.9035999774932861, 0.9014999866485596, 0.9004999995231628, 0.9039000272750854, 0.8894000053405762, 0.8813999891281128, 0.8650000095367432]}\n"
     ]
    }
   ],
   "source": [
    "optim = keras.optimizers.Adam()\n",
    "model.compile(loss='categorical_crossentropy',\n",
    "             optimizer = optim,\n",
    "             metrics = ['accuracy'])\n",
    "\n",
    "train[\"part_5\"] = model.fit(datagen.flow(x_train, y_train, batch_size=BS),\n",
    "                            epochs = epochs,verbose=1,\n",
    "                            validation_data=(x_test,y_test))\n",
    "\n",
    "model.save(\"SimpleNet_trained_model.h5\")\n",
    "print(train[\"part_5\"].history)"
   ]
  },
  {
   "cell_type": "code",
   "execution_count": 60,
   "metadata": {},
   "outputs": [
    {
     "data": {
      "text/plain": [
       "<matplotlib.legend.Legend at 0x1cb98b24880>"
      ]
     },
     "execution_count": 60,
     "metadata": {},
     "output_type": "execute_result"
    },
    {
     "data": {
      "image/png": "[encoded data removed]",
      "text/plain": [
       "<Figure size 432x288 with 1 Axes>"
      ]
     },
     "metadata": {
      "needs_background": "light"
     },
     "output_type": "display_data"
    }
   ],
   "source": [
    "plt.plot(train[\"part_5\"].history['loss'])\n",
    "plt.plot(train[\"part_5\"].history['accuracy'])\n",
    "# plt.plot(train[\"part_1\"].history['val_loss'])\n",
    "# plt.plot(train[\"part_1\"].history['val_accuracy'])\n",
    "plt.legend(['loss','accuracy'])"
   ]
  },
  {
   "cell_type": "code",
   "execution_count": 61,
   "metadata": {},
   "outputs": [
    {
     "name": "stdout",
     "output_type": "stream",
     "text": [
      "Epoch 1/10\n",
      "500/500 [==============================] - 210s 421ms/step - loss: 0.2483 - accuracy: 0.9158 - val_loss: 0.3519 - val_accuracy: 0.8821\n",
      "Epoch 2/10\n",
      "500/500 [==============================] - 209s 419ms/step - loss: 0.2420 - accuracy: 0.9172 - val_loss: 0.3532 - val_accuracy: 0.8853\n",
      "Epoch 3/10\n",
      "500/500 [==============================] - 210s 419ms/step - loss: 0.2448 - accuracy: 0.9160 - val_loss: 0.2702 - val_accuracy: 0.9090\n",
      "Epoch 4/10\n",
      "500/500 [==============================] - 210s 419ms/step - loss: 0.2364 - accuracy: 0.9197 - val_loss: 0.3352 - val_accuracy: 0.8912\n",
      "Epoch 5/10\n",
      "500/500 [==============================] - 210s 419ms/step - loss: 0.2338 - accuracy: 0.9201 - val_loss: 0.3080 - val_accuracy: 0.8969\n",
      "Epoch 6/10\n",
      "500/500 [==============================] - 210s 419ms/step - loss: 0.2334 - accuracy: 0.9209 - val_loss: 0.2781 - val_accuracy: 0.9079\n",
      "Epoch 7/10\n",
      "500/500 [==============================] - 210s 419ms/step - loss: 0.2294 - accuracy: 0.9225 - val_loss: 0.3391 - val_accuracy: 0.8912\n",
      "Epoch 8/10\n",
      "500/500 [==============================] - 183s 365ms/step - loss: 0.2281 - accuracy: 0.9217 - val_loss: 0.3093 - val_accuracy: 0.8991\n",
      "Epoch 9/10\n",
      "500/500 [==============================] - 176s 352ms/step - loss: 0.2290 - accuracy: 0.9211 - val_loss: 0.2516 - val_accuracy: 0.9122\n",
      "Epoch 10/10\n",
      "500/500 [==============================] - 176s 352ms/step - loss: 0.2256 - accuracy: 0.9227 - val_loss: 0.2876 - val_accuracy: 0.9030\n",
      "{'loss': [0.2483200579881668, 0.24198214709758759, 0.24477943778038025, 0.23644857108592987, 0.2338334321975708, 0.2333962321281433, 0.22943443059921265, 0.2281392216682434, 0.22897855937480927, 0.2256438136100769], 'accuracy': [0.9157800078392029, 0.9172199964523315, 0.9159799814224243, 0.9196599721908569, 0.9200599789619446, 0.9208599925041199, 0.9224799871444702, 0.921720027923584, 0.9210799932479858, 0.9227200150489807], 'val_loss': [0.35194480419158936, 0.35320842266082764, 0.27024510502815247, 0.33522340655326843, 0.3079782724380493, 0.2781199812889099, 0.3390956521034241, 0.3092990517616272, 0.25164446234703064, 0.28756988048553467], 'val_accuracy': [0.882099986076355, 0.8852999806404114, 0.9089999794960022, 0.8912000060081482, 0.8968999981880188, 0.9078999757766724, 0.8912000060081482, 0.8991000056266785, 0.9121999740600586, 0.902999997138977]}\n"
     ]
    }
   ],
   "source": [
    "optim = keras.optimizers.Adam()\n",
    "model.compile(loss='categorical_crossentropy',\n",
    "             optimizer = optim,\n",
    "             metrics = ['accuracy'])\n",
    "\n",
    "train[\"part_6\"] = model.fit(datagen.flow(x_train, y_train, batch_size=BS),\n",
    "                            epochs = epochs,verbose=1,\n",
    "                            validation_data=(x_test,y_test))\n",
    "\n",
    "model.save(\"SimpleNet_trained_model.h5\")\n",
    "print(train[\"part_6\"].history)"
   ]
  },
  {
   "cell_type": "code",
   "execution_count": 62,
   "metadata": {},
   "outputs": [
    {
     "data": {
      "text/plain": [
       "<matplotlib.legend.Legend at 0x1cb9baa6400>"
      ]
     },
     "execution_count": 62,
     "metadata": {},
     "output_type": "execute_result"
    },
    {
     "data": {
      "image/png": "[encoded data removed]",
      "text/plain": [
       "<Figure size 432x288 with 1 Axes>"
      ]
     },
     "metadata": {
      "needs_background": "light"
     },
     "output_type": "display_data"
    }
   ],
   "source": [
    "plt.plot(train[\"part_6\"].history['loss'])\n",
    "plt.plot(train[\"part_6\"].history['accuracy'])\n",
    "# plt.plot(train[\"part_1\"].history['val_loss'])\n",
    "# plt.plot(train[\"part_1\"].history['val_accuracy'])\n",
    "plt.legend(['loss','accuracy'])"
   ]
  },
  {
   "cell_type": "code",
   "execution_count": 63,
   "metadata": {},
   "outputs": [
    {
     "name": "stdout",
     "output_type": "stream",
     "text": [
      "Epoch 1/10\n",
      "500/500 [==============================] - 197s 394ms/step - loss: 0.2254 - accuracy: 0.9218 - val_loss: 0.2733 - val_accuracy: 0.9091\n",
      "Epoch 2/10\n",
      "500/500 [==============================] - 178s 357ms/step - loss: 0.2182 - accuracy: 0.9251 - val_loss: 0.3240 - val_accuracy: 0.8972\n",
      "Epoch 3/10\n",
      "500/500 [==============================] - 178s 357ms/step - loss: 0.2199 - accuracy: 0.9253 - val_loss: 0.2584 - val_accuracy: 0.9141\n",
      "Epoch 4/10\n",
      "500/500 [==============================] - 181s 363ms/step - loss: 0.2180 - accuracy: 0.9253 - val_loss: 0.2697 - val_accuracy: 0.9120\n",
      "Epoch 5/10\n",
      "500/500 [==============================] - 181s 362ms/step - loss: 0.2153 - accuracy: 0.9268 - val_loss: 0.2773 - val_accuracy: 0.9085\n",
      "Epoch 6/10\n",
      "500/500 [==============================] - 178s 357ms/step - loss: 0.2157 - accuracy: 0.9260 - val_loss: 0.2829 - val_accuracy: 0.9058\n",
      "Epoch 7/10\n",
      "500/500 [==============================] - 180s 360ms/step - loss: 0.2144 - accuracy: 0.9258 - val_loss: 0.2770 - val_accuracy: 0.9104\n",
      "Epoch 8/10\n",
      "500/500 [==============================] - 181s 362ms/step - loss: 0.2114 - accuracy: 0.9270 - val_loss: 0.2583 - val_accuracy: 0.9142\n",
      "Epoch 9/10\n",
      "500/500 [==============================] - 179s 357ms/step - loss: 0.2072 - accuracy: 0.9289 - val_loss: 0.2799 - val_accuracy: 0.9073\n",
      "Epoch 10/10\n",
      "500/500 [==============================] - 177s 354ms/step - loss: 0.2074 - accuracy: 0.9298 - val_loss: 0.2599 - val_accuracy: 0.9159\n",
      "{'loss': [0.2253543883562088, 0.21822728216648102, 0.21985478699207306, 0.2179509997367859, 0.2153419852256775, 0.2157156765460968, 0.2143617570400238, 0.21138492226600647, 0.20718570053577423, 0.2074437439441681], 'accuracy': [0.9218199849128723, 0.9250800013542175, 0.925279974937439, 0.9252600073814392, 0.9267799854278564, 0.9259799718856812, 0.9257799983024597, 0.9269599914550781, 0.9289000034332275, 0.9297800064086914], 'val_loss': [0.2732948362827301, 0.32403919100761414, 0.2584245502948761, 0.2696895897388458, 0.27734842896461487, 0.2828953266143799, 0.2770478427410126, 0.2582607567310333, 0.27994444966316223, 0.25987064838409424], 'val_accuracy': [0.9090999960899353, 0.8971999883651733, 0.9140999913215637, 0.9120000004768372, 0.9085000157356262, 0.9057999849319458, 0.9103999733924866, 0.9142000079154968, 0.9072999954223633, 0.9158999919891357]}\n"
     ]
    }
   ],
   "source": [
    "optim = keras.optimizers.Adam()\n",
    "model.compile(loss='categorical_crossentropy',\n",
    "             optimizer = optim,\n",
    "             metrics = ['accuracy'])\n",
    "\n",
    "train[\"part_7\"] = model.fit(datagen.flow(x_train, y_train, batch_size=BS),\n",
    "                            epochs = epochs,verbose=1,\n",
    "                            validation_data=(x_test,y_test))\n",
    "\n",
    "model.save(\"SimpleNet_trained_model.h5\")\n",
    "print(train[\"part_7\"].history)"
   ]
  },
  {
   "cell_type": "code",
   "execution_count": 100,
   "metadata": {},
   "outputs": [
    {
     "data": {
      "text/plain": [
       "<matplotlib.legend.Legend at 0x1cb96366f70>"
      ]
     },
     "execution_count": 100,
     "metadata": {},
     "output_type": "execute_result"
    },
    {
     "data": {
      "image/png": "[encoded data removed]",
      "text/plain": [
       "<Figure size 432x288 with 1 Axes>"
      ]
     },
     "metadata": {
      "needs_background": "light"
     },
     "output_type": "display_data"
    }
   ],
   "source": [
    "plt.plot(train[\"part_7\"].history['loss'])\n",
    "plt.plot(train[\"part_7\"].history['accuracy'])\n",
    "# plt.plot(train[\"part_1\"].history['val_loss'])\n",
    "# plt.plot(train[\"part_1\"].history['val_accuracy'])\n",
    "plt.legend(['loss','accuracy'])"
   ]
  },
  {
   "cell_type": "code",
   "execution_count": 67,
   "metadata": {},
   "outputs": [
    {
     "name": "stdout",
     "output_type": "stream",
     "text": [
      "Epoch 1/10\n",
      "500/500 [==============================] - 175s 351ms/step - loss: 0.2032 - accuracy: 0.9301 - val_loss: 0.2831 - val_accuracy: 0.9094\n",
      "Epoch 2/10\n",
      "500/500 [==============================] - 174s 349ms/step - loss: 0.2003 - accuracy: 0.9316 - val_loss: 0.3267 - val_accuracy: 0.8967\n",
      "Epoch 3/10\n",
      "500/500 [==============================] - 175s 350ms/step - loss: 0.2018 - accuracy: 0.9301 - val_loss: 0.3062 - val_accuracy: 0.9018\n",
      "Epoch 4/10\n",
      "500/500 [==============================] - 174s 348ms/step - loss: 0.2023 - accuracy: 0.9315 - val_loss: 0.2699 - val_accuracy: 0.9117\n",
      "Epoch 5/10\n",
      "500/500 [==============================] - 179s 358ms/step - loss: 0.2000 - accuracy: 0.9311 - val_loss: 0.2625 - val_accuracy: 0.9118\n",
      "Epoch 6/10\n",
      "500/500 [==============================] - 179s 358ms/step - loss: 0.1979 - accuracy: 0.9324 - val_loss: 0.3210 - val_accuracy: 0.8989\n",
      "Epoch 7/10\n",
      "500/500 [==============================] - 181s 362ms/step - loss: 0.1983 - accuracy: 0.9313 - val_loss: 0.3069 - val_accuracy: 0.9046\n",
      "Epoch 8/10\n",
      "500/500 [==============================] - 183s 366ms/step - loss: 0.1939 - accuracy: 0.9340 - val_loss: 0.3096 - val_accuracy: 0.9007\n",
      "Epoch 9/10\n",
      "500/500 [==============================] - 182s 363ms/step - loss: 0.1907 - accuracy: 0.9340 - val_loss: 0.2828 - val_accuracy: 0.9080\n",
      "Epoch 10/10\n",
      "500/500 [==============================] - 183s 367ms/step - loss: 0.1931 - accuracy: 0.9344 - val_loss: 0.2782 - val_accuracy: 0.9089\n",
      "{'loss': [0.20321209728717804, 0.2002834975719452, 0.2018357664346695, 0.20234118402004242, 0.20002205669879913, 0.19794443249702454, 0.1983109414577484, 0.19391699135303497, 0.1906643807888031, 0.193126380443573], 'accuracy': [0.9301199913024902, 0.9315999746322632, 0.930079996585846, 0.9314799904823303, 0.9311000108718872, 0.932420015335083, 0.9312999844551086, 0.9340000152587891, 0.9339600205421448, 0.9343799948692322], 'val_loss': [0.28305763006210327, 0.3266987204551697, 0.3062474727630615, 0.26988154649734497, 0.2625257670879364, 0.321039080619812, 0.3069021999835968, 0.3096138834953308, 0.282772421836853, 0.27821841835975647], 'val_accuracy': [0.9093999862670898, 0.8967000246047974, 0.9017999768257141, 0.9117000102996826, 0.9118000268936157, 0.8988999724388123, 0.9046000242233276, 0.9006999731063843, 0.9079999923706055, 0.9089000225067139]}\n"
     ]
    }
   ],
   "source": [
    "optim = keras.optimizers.Adam()\n",
    "model.compile(loss='categorical_crossentropy',\n",
    "             optimizer = optim,\n",
    "             metrics = ['accuracy'])\n",
    "\n",
    "train[\"part_8\"] = model.fit(datagen.flow(x_train, y_train, batch_size=BS),\n",
    "                            epochs = epochs,verbose=1,\n",
    "                            validation_data=(x_test,y_test))\n",
    "\n",
    "model.save(\"SimpleNet_trained_model.h5\")\n",
    "print(train[\"part_8\"].history)"
   ]
  },
  {
   "cell_type": "code",
   "execution_count": 99,
   "metadata": {},
   "outputs": [
    {
     "data": {
      "text/plain": [
       "<matplotlib.legend.Legend at 0x1cb9636f430>"
      ]
     },
     "execution_count": 99,
     "metadata": {},
     "output_type": "execute_result"
    },
    {
     "data": {
      "image/png": "[encoded data removed]",
      "text/plain": [
       "<Figure size 432x288 with 1 Axes>"
      ]
     },
     "metadata": {
      "needs_background": "light"
     },
     "output_type": "display_data"
    }
   ],
   "source": [
    "plt.plot(train[\"part_8\"].history['loss'])\n",
    "plt.plot(train[\"part_8\"].history['accuracy'])\n",
    "# plt.plot(train[\"part_1\"].history['val_loss'])\n",
    "# plt.plot(train[\"part_1\"].history['val_accuracy'])\n",
    "plt.legend(['loss','accuracy'])"
   ]
  },
  {
   "cell_type": "code",
   "execution_count": null,
   "metadata": {},
   "outputs": [],
   "source": []
  },
  {
   "cell_type": "code",
   "execution_count": 95,
   "metadata": {},
   "outputs": [],
   "source": [
    "a = []\n",
    "for i in train:\n",
    "    a.append(train[i].history['accuracy'])\n",
    "acc = []\n",
    "for i in a:\n",
    "    for j in i:\n",
    "        acc.append(j)"
   ]
  },
  {
   "cell_type": "code",
   "execution_count": 96,
   "metadata": {},
   "outputs": [],
   "source": [
    "a = []\n",
    "for i in train:\n",
    "    a.append(train[i].history['loss'])\n",
    "loss = []\n",
    "for i in a:\n",
    "    for j in i:\n",
    "        loss.append(j)"
   ]
  },
  {
   "cell_type": "code",
   "execution_count": 98,
   "metadata": {},
   "outputs": [
    {
     "data": {
      "text/plain": [
       "[<matplotlib.lines.Line2D at 0x1cb9634da00>]"
      ]
     },
     "execution_count": 98,
     "metadata": {},
     "output_type": "execute_result"
    },
    {
     "data": {
      "image/png": "[encoded data removed]",
      "text/plain": [
       "<Figure size 432x288 with 1 Axes>"
      ]
     },
     "metadata": {
      "needs_background": "light"
     },
     "output_type": "display_data"
    }
   ],
   "source": [
    "plt.plot(loss)\n",
    "plt.plot(acc)"
   ]
  },
  {
   "cell_type": "code",
   "execution_count": null,
   "metadata": {},
   "outputs": [],
   "source": []
  }
 ],
 "metadata": {
  "kernelspec": {
   "display_name": "Python 3",
   "language": "python",
   "name": "python3"
  },
  "language_info": {
   "codemirror_mode": {
    "name": "ipython",
    "version": 3
   },
   "file_extension": ".py",
   "mimetype": "text/x-python",
   "name": "python",
   "nbconvert_exporter": "python",
   "pygments_lexer": "ipython3",
   "version": "3.8.6"
  }
 },
 "nbformat": 4,
 "nbformat_minor": 4
}
